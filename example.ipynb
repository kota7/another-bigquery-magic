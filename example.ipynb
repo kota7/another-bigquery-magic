{
 "cells": [
  {
   "cell_type": "markdown",
   "id": "8d439cfa-d469-4a15-b27c-27ccfa83058f",
   "metadata": {},
   "source": [
    "# another-bigquery-magic\n",
    "Unofficial bigquery magic Command for IPython notebook\n",
    "\n",
    "[![](https://badge.fury.io/py/another-bigquery-magic.svg)](https://badge.fury.io/py/another-bigquery-magic)"
   ]
  },
  {
   "cell_type": "markdown",
   "id": "7204500d-2d1f-4346-b11b-3c39017989d8",
   "metadata": {},
   "source": [
    "## Installation\n",
    "\n",
    "```python\n",
    "# from pypi\n",
    "$ pip install another-bigquery-magic\n",
    "\n",
    "# alternatively, from github\n",
    "$ git clone https://github.com/kota7/another-bigquery-magic.git --depth 1\n",
    "$ pip install -U ./another-bigquery-magic\n",
    "```"
   ]
  },
  {
   "cell_type": "markdown",
   "id": "6d49b068-6555-4706-a0cb-a84ac050725c",
   "metadata": {},
   "source": [
    "## Usage"
   ]
  },
  {
   "cell_type": "code",
   "execution_count": null,
   "id": "d827b3e5-1cbf-4117-88d0-d8352d8d19e3",
   "metadata": {},
   "outputs": [],
   "source": [
    "# Set the project ID\n",
    "project_id = \"<google-cloud-project-id>\"\n",
    "!gcloud config set project {project_id}"
   ]
  },
  {
   "cell_type": "code",
   "execution_count": null,
   "id": "cdfbab82-8256-4538-a1e1-ca6041721dc3",
   "metadata": {},
   "outputs": [],
   "source": [
    "# If you are authenticated to the google cloud already, skip this cell.\n",
    "# Otherwise, authenticate with your choice of method.\n",
    "\n",
    "# Example 1. Authentication on colab\n",
    "from google.colab import auth\n",
    "auth.authenticate_user()\n",
    "\n",
    "# Example 2. Authentication by user log-in\n",
    "# Note: to access external table with google drive, we also need \"https://www.googleapis.com/auth/drive\" in the scope\n",
    "!gcloud auth application-default login --scopes=\"https://www.googleapis.com/auth/bigquery\"\n",
    "\n",
    "# Example 3. Authentication with a local json file\n",
    "jsonfile = \"<json-file-path>\"\n",
    "%config BigqueryMagic.localjson = jsonfile"
   ]
  },
  {
   "cell_type": "code",
   "execution_count": 2,
   "id": "50d2736f-b21c-447a-8835-822bca3fdbd4",
   "metadata": {},
   "outputs": [
    {
     "name": "stderr",
     "output_type": "stream",
     "text": [
      "Start query at 2024-01-12 15:31:07.286991\n",
      "End query at 2024-01-12 15:31:10.047083 (Execution time: 0:00:02.760092, Processed: 0.0 GB)\n"
     ]
    },
    {
     "data": {
      "text/html": [
       "<div>\n",
       "<style scoped>\n",
       "    .dataframe tbody tr th:only-of-type {\n",
       "        vertical-align: middle;\n",
       "    }\n",
       "\n",
       "    .dataframe tbody tr th {\n",
       "        vertical-align: top;\n",
       "    }\n",
       "\n",
       "    .dataframe thead th {\n",
       "        text-align: right;\n",
       "    }\n",
       "</style>\n",
       "<table border=\"1\" class=\"dataframe\">\n",
       "  <thead>\n",
       "    <tr style=\"text-align: right;\">\n",
       "      <th></th>\n",
       "      <th>test</th>\n",
       "    </tr>\n",
       "  </thead>\n",
       "  <tbody>\n",
       "    <tr>\n",
       "      <th>0</th>\n",
       "      <td>1</td>\n",
       "    </tr>\n",
       "  </tbody>\n",
       "</table>\n",
       "</div>"
      ],
      "text/plain": [
       "   test\n",
       "0     1"
      ]
     },
     "execution_count": 2,
     "metadata": {},
     "output_type": "execute_result"
    }
   ],
   "source": [
    "# Load the bq magic command\n",
    "%load_ext bq\n",
    "\n",
    "# %bq magic command runs the query and returns the pandas data frame\n",
    "%bq SELECT 1 AS test"
   ]
  },
  {
   "cell_type": "code",
   "execution_count": 3,
   "id": "a5eac958-3994-40d1-8983-1794f5cb0eca",
   "metadata": {},
   "outputs": [
    {
     "name": "stderr",
     "output_type": "stream",
     "text": [
      "Start query at 2024-01-12 15:31:10.848227\n",
      "End query at 2024-01-12 15:31:13.636390 (Execution time: 0:00:02.788163, Processed: 0.0 GB)\n"
     ]
    },
    {
     "data": {
      "text/html": [
       "<div>\n",
       "<style scoped>\n",
       "    .dataframe tbody tr th:only-of-type {\n",
       "        vertical-align: middle;\n",
       "    }\n",
       "\n",
       "    .dataframe tbody tr th {\n",
       "        vertical-align: top;\n",
       "    }\n",
       "\n",
       "    .dataframe thead th {\n",
       "        text-align: right;\n",
       "    }\n",
       "</style>\n",
       "<table border=\"1\" class=\"dataframe\">\n",
       "  <thead>\n",
       "    <tr style=\"text-align: right;\">\n",
       "      <th></th>\n",
       "      <th>x</th>\n",
       "      <th>y</th>\n",
       "    </tr>\n",
       "  </thead>\n",
       "  <tbody>\n",
       "    <tr>\n",
       "      <th>0</th>\n",
       "      <td>1</td>\n",
       "      <td>2</td>\n",
       "    </tr>\n",
       "  </tbody>\n",
       "</table>\n",
       "</div>"
      ],
      "text/plain": [
       "   x  y\n",
       "0  1  2"
      ]
     },
     "execution_count": 3,
     "metadata": {},
     "output_type": "execute_result"
    }
   ],
   "source": [
    "%%bq\n",
    "/* Cell magic is also defined */\n",
    "SELECT\n",
    "  1 AS x,\n",
    "  2 AS y"
   ]
  },
  {
   "cell_type": "code",
   "execution_count": 7,
   "id": "d588e25c-db11-431e-a3ad-e883638db52e",
   "metadata": {},
   "outputs": [
    {
     "data": {
      "text/html": [
       "<div>\n",
       "<style scoped>\n",
       "    .dataframe tbody tr th:only-of-type {\n",
       "        vertical-align: middle;\n",
       "    }\n",
       "\n",
       "    .dataframe tbody tr th {\n",
       "        vertical-align: top;\n",
       "    }\n",
       "\n",
       "    .dataframe thead th {\n",
       "        text-align: right;\n",
       "    }\n",
       "</style>\n",
       "<table border=\"1\" class=\"dataframe\">\n",
       "  <thead>\n",
       "    <tr style=\"text-align: right;\">\n",
       "      <th></th>\n",
       "      <th>x</th>\n",
       "    </tr>\n",
       "  </thead>\n",
       "  <tbody>\n",
       "    <tr>\n",
       "      <th>0</th>\n",
       "      <td>1</td>\n",
       "    </tr>\n",
       "    <tr>\n",
       "      <th>1</th>\n",
       "      <td>2</td>\n",
       "    </tr>\n",
       "  </tbody>\n",
       "</table>\n",
       "</div>"
      ],
      "text/plain": [
       "   x\n",
       "0  1\n",
       "1  2"
      ]
     },
     "metadata": {},
     "output_type": "display_data"
    }
   ],
   "source": [
    "# Change the limit to the number of rows to get (default is 50000 rows)\n",
    "%config BigqueryMagic.autolimit = 2  # at most two rows to return\n",
    "\n",
    "q = \"\"\"\n",
    "SELECT 1 AS x\n",
    "UNION ALL\n",
    "SELECT 2 AS x\n",
    "UNION ALL\n",
    "SELECT 3 AS x\n",
    "\"\"\"\n",
    "x = %bq {q}\n",
    "display(x)\n",
    "\n",
    "# Reset to a reasonable number\n",
    "%config BigqueryMagic.autolimit = 10000"
   ]
  },
  {
   "cell_type": "code",
   "execution_count": 8,
   "id": "05dc5c37-f172-40c9-905f-ef20b73d8144",
   "metadata": {},
   "outputs": [
    {
     "data": {
      "text/html": [
       "<div>\n",
       "<style scoped>\n",
       "    .dataframe tbody tr th:only-of-type {\n",
       "        vertical-align: middle;\n",
       "    }\n",
       "\n",
       "    .dataframe tbody tr th {\n",
       "        vertical-align: top;\n",
       "    }\n",
       "\n",
       "    .dataframe thead th {\n",
       "        text-align: right;\n",
       "    }\n",
       "</style>\n",
       "<table border=\"1\" class=\"dataframe\">\n",
       "  <thead>\n",
       "    <tr style=\"text-align: right;\">\n",
       "      <th></th>\n",
       "      <th>showbytes</th>\n",
       "    </tr>\n",
       "  </thead>\n",
       "  <tbody>\n",
       "    <tr>\n",
       "      <th>0</th>\n",
       "      <td>False</td>\n",
       "    </tr>\n",
       "  </tbody>\n",
       "</table>\n",
       "</div>"
      ],
      "text/plain": [
       "   showbytes\n",
       "0      False"
      ]
     },
     "metadata": {},
     "output_type": "display_data"
    },
    {
     "data": {
      "text/html": [
       "<div>\n",
       "<style scoped>\n",
       "    .dataframe tbody tr th:only-of-type {\n",
       "        vertical-align: middle;\n",
       "    }\n",
       "\n",
       "    .dataframe tbody tr th {\n",
       "        vertical-align: top;\n",
       "    }\n",
       "\n",
       "    .dataframe thead th {\n",
       "        text-align: right;\n",
       "    }\n",
       "</style>\n",
       "<table border=\"1\" class=\"dataframe\">\n",
       "  <thead>\n",
       "    <tr style=\"text-align: right;\">\n",
       "      <th></th>\n",
       "      <th>showbytes</th>\n",
       "      <th>showtime</th>\n",
       "    </tr>\n",
       "  </thead>\n",
       "  <tbody>\n",
       "    <tr>\n",
       "      <th>0</th>\n",
       "      <td>True</td>\n",
       "      <td>False</td>\n",
       "    </tr>\n",
       "  </tbody>\n",
       "</table>\n",
       "</div>"
      ],
      "text/plain": [
       "   showbytes  showtime\n",
       "0       True     False"
      ]
     },
     "metadata": {},
     "output_type": "display_data"
    },
    {
     "data": {
      "text/html": [
       "<div>\n",
       "<style scoped>\n",
       "    .dataframe tbody tr th:only-of-type {\n",
       "        vertical-align: middle;\n",
       "    }\n",
       "\n",
       "    .dataframe tbody tr th {\n",
       "        vertical-align: top;\n",
       "    }\n",
       "\n",
       "    .dataframe thead th {\n",
       "        text-align: right;\n",
       "    }\n",
       "</style>\n",
       "<table border=\"1\" class=\"dataframe\">\n",
       "  <thead>\n",
       "    <tr style=\"text-align: right;\">\n",
       "      <th></th>\n",
       "      <th>showbytes</th>\n",
       "      <th>showtime</th>\n",
       "      <th>quiet</th>\n",
       "    </tr>\n",
       "  </thead>\n",
       "  <tbody>\n",
       "    <tr>\n",
       "      <th>0</th>\n",
       "      <td>True</td>\n",
       "      <td>True</td>\n",
       "      <td>True</td>\n",
       "    </tr>\n",
       "  </tbody>\n",
       "</table>\n",
       "</div>"
      ],
      "text/plain": [
       "   showbytes  showtime  quiet\n",
       "0       True      True   True"
      ]
     },
     "metadata": {},
     "output_type": "display_data"
    }
   ],
   "source": [
    "# Control the amount of messages\n",
    "%config BigqueryMagic.showbytes = False\n",
    "x = %bq SELECT false AS showbytes\n",
    "display(x)\n",
    "\n",
    "%config BigqueryMagic.showbytes = True\n",
    "%config BigqueryMagic.showtime = False\n",
    "x = %bq SELECT true AS showbytes, false AS showtime\n",
    "display(x)\n",
    "\n",
    "%config BigqueryMagic.showtime = True\n",
    "%config BigqueryMagic.quiet = True\n",
    "x = %bq SELECT true AS showbytes, true AS showtime, true AS quiet\n",
    "display(x)"
   ]
  },
  {
   "cell_type": "code",
   "execution_count": null,
   "id": "73b22699-7020-42f6-8fc9-9e066c80ce28",
   "metadata": {},
   "outputs": [],
   "source": []
  }
 ],
 "metadata": {
  "kernelspec": {
   "display_name": "Python (sandbox)",
   "language": "python",
   "name": "sandbox"
  },
  "language_info": {
   "codemirror_mode": {
    "name": "ipython",
    "version": 3
   },
   "file_extension": ".py",
   "mimetype": "text/x-python",
   "name": "python",
   "nbconvert_exporter": "python",
   "pygments_lexer": "ipython3",
   "version": "3.10.12"
  }
 },
 "nbformat": 4,
 "nbformat_minor": 5
}
