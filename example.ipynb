{
 "cells": [
  {
   "cell_type": "code",
   "execution_count": null,
   "id": "00640a5f-9006-4687-874a-405a7cfea00c",
   "metadata": {},
   "outputs": [],
   "source": [
    "# Set the project ID\n",
    "project_id = \"<project-id>\"\n",
    "!gcloud config set project {project_id}\n",
    "\n",
    "# Load the bq magic command\n",
    "%load_ext bq"
   ]
  },
  {
   "cell_type": "code",
   "execution_count": 3,
   "id": "cdfbab82-8256-4538-a1e1-ca6041721dc3",
   "metadata": {},
   "outputs": [],
   "source": [
    "# If you are authenticated already, skip this cell.\n",
    "\n",
    "# Authentication on colab\n",
    "from google.colab import auth\n",
    "auth.authenticate_user()\n",
    "\n",
    "# Authentication by user log-in\n",
    "# Note: to access external table with google drive, we also need \"https://www.googleapis.com/auth/drive\" in the scope\n",
    "!gcloud auth application-default login --scopes=\"https://www.googleapis.com/auth/bigquery\"\n",
    "\n",
    "# Authentication with a local json file\n",
    "jsonfile = \"<json-file-path>\"\n",
    "%config BigqueryMagic.localjson = jsonfile"
   ]
  },
  {
   "cell_type": "code",
   "execution_count": 4,
   "id": "50d2736f-b21c-447a-8835-822bca3fdbd4",
   "metadata": {},
   "outputs": [
    {
     "name": "stderr",
     "output_type": "stream",
     "text": [
      "Start query at 2024-01-09 12:33:04.250778\n",
      "End query at 2024-01-09 12:33:05.402180 (Execution time: 0:00:01.151402, Processed: 0.0 GB)\n"
     ]
    },
    {
     "data": {
      "text/html": [
       "<div>\n",
       "<style scoped>\n",
       "    .dataframe tbody tr th:only-of-type {\n",
       "        vertical-align: middle;\n",
       "    }\n",
       "\n",
       "    .dataframe tbody tr th {\n",
       "        vertical-align: top;\n",
       "    }\n",
       "\n",
       "    .dataframe thead th {\n",
       "        text-align: right;\n",
       "    }\n",
       "</style>\n",
       "<table border=\"1\" class=\"dataframe\">\n",
       "  <thead>\n",
       "    <tr style=\"text-align: right;\">\n",
       "      <th></th>\n",
       "      <th>test</th>\n",
       "    </tr>\n",
       "  </thead>\n",
       "  <tbody>\n",
       "    <tr>\n",
       "      <th>0</th>\n",
       "      <td>1</td>\n",
       "    </tr>\n",
       "  </tbody>\n",
       "</table>\n",
       "</div>"
      ],
      "text/plain": [
       "   test\n",
       "0     1"
      ]
     },
     "execution_count": 4,
     "metadata": {},
     "output_type": "execute_result"
    }
   ],
   "source": [
    "%bq SELECT 1 AS test"
   ]
  },
  {
   "cell_type": "code",
   "execution_count": null,
   "id": "d2b4972a-ff91-45d1-bc6f-af570e44dc59",
   "metadata": {},
   "outputs": [],
   "source": []
  }
 ],
 "metadata": {
  "kernelspec": {
   "display_name": "Python (sandbox)",
   "language": "python",
   "name": "sandbox"
  },
  "language_info": {
   "codemirror_mode": {
    "name": "ipython",
    "version": 3
   },
   "file_extension": ".py",
   "mimetype": "text/x-python",
   "name": "python",
   "nbconvert_exporter": "python",
   "pygments_lexer": "ipython3",
   "version": "3.10.12"
  }
 },
 "nbformat": 4,
 "nbformat_minor": 5
}
